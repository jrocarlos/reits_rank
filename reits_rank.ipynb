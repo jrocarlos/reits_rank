{
  "nbformat": 4,
  "nbformat_minor": 0,
  "metadata": {
    "colab": {
      "name": "reits_rank.ipynb",
      "provenance": [],
      "collapsed_sections": []
    },
    "kernelspec": {
      "name": "python3",
      "display_name": "Python 3"
    },
    "language_info": {
      "name": "python"
    }
  },
  "cells": [
    {
      "cell_type": "code",
      "source": [
        "# Imports\n",
        "import pandas as pd\n",
        "import requests\n",
        "import numpy as np\n",
        "import matplotlib as plt\n",
        "from bs4 import BeautifulSoup \n",
        "#from tabulate import tabulate"
      ],
      "metadata": {
        "id": "wHxHVf0OjVo9"
      },
      "execution_count": 74,
      "outputs": []
    },
    {
      "cell_type": "code",
      "source": [
        "url = requests.get(\"https://www.fundsexplorer.com.br/ranking\")"
      ],
      "metadata": {
        "id": "Lvx_0_LJjV8F"
      },
      "execution_count": 2,
      "outputs": []
    },
    {
      "cell_type": "code",
      "source": [
        "fii_bs4 = BeautifulSoup(url.text, \"html.parser\")"
      ],
      "metadata": {
        "id": "FHdvtt3B5yBM"
      },
      "execution_count": 3,
      "outputs": []
    },
    {
      "cell_type": "code",
      "source": [
        "fii_table = fii_bs4.findAll(attrs = {'id' : 'scroll-wrapper'})\n",
        "table = fii_table[0].findAll('table')"
      ],
      "metadata": {
        "id": "WRCF1Sy4jd8W"
      },
      "execution_count": 4,
      "outputs": []
    },
    {
      "cell_type": "code",
      "source": [
        "fii_df = pd.read_html(str(fii_table[0]))[0]"
      ],
      "metadata": {
        "id": "no8LOXoU6i0K"
      },
      "execution_count": 5,
      "outputs": []
    },
    {
      "cell_type": "code",
      "source": [
        "fii_df"
      ],
      "metadata": {
        "id": "ewFTWJZ761CO"
      },
      "execution_count": null,
      "outputs": []
    },
    {
      "cell_type": "code",
      "source": [
        "fii_df.columns.values"
      ],
      "metadata": {
        "id": "JwXpRqBc72lf"
      },
      "execution_count": null,
      "outputs": []
    },
    {
      "cell_type": "code",
      "source": [
        "fii_df.columns = ['ticker', 'Setor', 'price', 'liquidez',\n",
        "       'Dividendo', 'DividendYield', 'DY (3M)Acumulado',\n",
        "       'DY (6M)Acumulado', 'dy', 'DY (3M)Média',\n",
        "       'DY (6M)Média', 'Dividenmediio', 'DY Ano', 'Variação Preço',\n",
        "       'Rentab.Período', 'Rentab.Acumulada', 'PatrimônioLíq.', 'VPA',\n",
        "       'pvpa', 'DYPatrimonial', 'VariaçãoPatrimonial',\n",
        "       'Rentab. Patr.no Período', 'Rentab. Patr.Acumulada',\n",
        "       'VacânciaFísica', 'VacânciaFinanceira', 'QuantidadeAtivos']"
      ],
      "metadata": {
        "id": "bvUkJj3X8PV_"
      },
      "execution_count": 8,
      "outputs": []
    },
    {
      "cell_type": "code",
      "source": [
        "fii_df.columns.values"
      ],
      "metadata": {
        "id": "c74r0rO28yi5"
      },
      "execution_count": null,
      "outputs": []
    },
    {
      "cell_type": "code",
      "source": [
        "fii_back = fii_df.copy()"
      ],
      "metadata": {
        "id": "S-g0Rcd37IgJ"
      },
      "execution_count": 10,
      "outputs": []
    },
    {
      "cell_type": "code",
      "source": [
        "test = fii_df[['ticker', 'price', 'dy', 'pvpa','liquidez']]"
      ],
      "metadata": {
        "id": "DElgkzFQ7vZs"
      },
      "execution_count": 11,
      "outputs": []
    },
    {
      "cell_type": "code",
      "source": [
        "print(\"--> DATA:\")\n",
        "display(test.isnull().sum())"
      ],
      "metadata": {
        "id": "A09R_iCW-OH3"
      },
      "execution_count": null,
      "outputs": []
    },
    {
      "cell_type": "code",
      "source": [
        "test = test[test['price'].notna()]\n",
        "test = test[test['dy'].notna()]"
      ],
      "metadata": {
        "id": "SbSHaidcALqI"
      },
      "execution_count": 13,
      "outputs": []
    },
    {
      "cell_type": "code",
      "source": [
        "print(\"--> DATA:\")\n",
        "display(test.isnull().sum())"
      ],
      "metadata": {
        "id": "DKCl9Ce8AXbD"
      },
      "execution_count": null,
      "outputs": []
    },
    {
      "cell_type": "code",
      "source": [
        "test = test.sort_values(['dy'], ascending=False)"
      ],
      "metadata": {
        "id": "pZahjHtx4d9O"
      },
      "execution_count": 16,
      "outputs": []
    },
    {
      "cell_type": "code",
      "source": [
        "test"
      ],
      "metadata": {
        "id": "a9k8ZLL64vKm"
      },
      "execution_count": null,
      "outputs": []
    },
    {
      "cell_type": "code",
      "source": [
        "unit = 'R$'\n",
        "test['price'] = [sub.replace(unit, \"\").strip() for sub in test['price']]"
      ],
      "metadata": {
        "id": "uK0OSKi3Gyk5"
      },
      "execution_count": 18,
      "outputs": []
    },
    {
      "cell_type": "code",
      "source": [
        "test"
      ],
      "metadata": {
        "id": "0MBdv8eSHiME"
      },
      "execution_count": null,
      "outputs": []
    },
    {
      "cell_type": "code",
      "source": [
        "test.dtypes"
      ],
      "metadata": {
        "id": "0eqGWNerIxpE"
      },
      "execution_count": null,
      "outputs": []
    },
    {
      "cell_type": "code",
      "source": [
        "test['price'] = test['price'].str.replace(',', '.')\n",
        "test['price'] = pd.to_numeric(test['price'], errors='coerce')\n",
        "test"
      ],
      "metadata": {
        "id": "1lGSV05dJsuv"
      },
      "execution_count": null,
      "outputs": []
    },
    {
      "cell_type": "code",
      "source": [
        "test = test[test['price'].notna()]"
      ],
      "metadata": {
        "id": "Fh4BeqPEMTPD"
      },
      "execution_count": 22,
      "outputs": []
    },
    {
      "cell_type": "code",
      "source": [
        "test['lid2'] = test['price'] * test['liquidez']\n",
        "test"
      ],
      "metadata": {
        "id": "Pyv5Ue9oBMiZ"
      },
      "execution_count": null,
      "outputs": []
    },
    {
      "cell_type": "code",
      "source": [
        "test = test.sort_values(['lid2'], ascending=False)"
      ],
      "metadata": {
        "id": "ZqkCZ8x3OTty"
      },
      "execution_count": null,
      "outputs": []
    },
    {
      "cell_type": "code",
      "source": [
        "test.reset_index(inplace=True, drop=True)"
      ],
      "metadata": {
        "id": "6Qz4pXSS-85Q"
      },
      "execution_count": 34,
      "outputs": []
    },
    {
      "cell_type": "code",
      "source": [
        "indexNames = test[ (test['lid2'] <= 200000)].index\n",
        "test.drop(indexNames , inplace=True)\n",
        "test"
      ],
      "metadata": {
        "id": "Ad31Dpeq_qJ_"
      },
      "execution_count": null,
      "outputs": []
    },
    {
      "cell_type": "code",
      "source": [
        "ts = test.shape\n",
        "ts = ts[0]"
      ],
      "metadata": {
        "id": "9XJ_UmFNPV9i"
      },
      "execution_count": 53,
      "outputs": []
    },
    {
      "cell_type": "code",
      "source": [
        "test = test.sort_values(['dy'], ascending=False)\n",
        "test.reset_index(inplace=True, drop=True)"
      ],
      "metadata": {
        "id": "WLSyt920QDQa"
      },
      "execution_count": 58,
      "outputs": []
    },
    {
      "cell_type": "code",
      "source": [
        "b1 = [*range(0, ts, 1)]"
      ],
      "metadata": {
        "id": "jHtKHuO15TbW"
      },
      "execution_count": 59,
      "outputs": []
    },
    {
      "cell_type": "code",
      "source": [
        "test['b1'] = pd.Series(b1)"
      ],
      "metadata": {
        "id": "Zi4jz2E0Dljk"
      },
      "execution_count": 60,
      "outputs": []
    },
    {
      "cell_type": "code",
      "source": [
        "test"
      ],
      "metadata": {
        "id": "HHBQ4t0FFgr8"
      },
      "execution_count": null,
      "outputs": []
    },
    {
      "cell_type": "code",
      "source": [
        "test = test.sort_values(['pvpa'], ascending=True)"
      ],
      "metadata": {
        "id": "PNxeUW0OAD5v"
      },
      "execution_count": 62,
      "outputs": []
    },
    {
      "cell_type": "code",
      "source": [
        "test.reset_index(inplace=True, drop=True)"
      ],
      "metadata": {
        "id": "XiaGjtjeAt2n"
      },
      "execution_count": 63,
      "outputs": []
    },
    {
      "cell_type": "code",
      "source": [
        "b2 = [*range(0, ts, 1)]\n",
        "test['b2'] = pd.Series(b2)"
      ],
      "metadata": {
        "id": "ZHRUmQz4AYhw"
      },
      "execution_count": 64,
      "outputs": []
    },
    {
      "cell_type": "code",
      "source": [
        "test"
      ],
      "metadata": {
        "id": "O_rlaOs5A0Z_"
      },
      "execution_count": null,
      "outputs": []
    },
    {
      "cell_type": "code",
      "source": [
        "test = test.eval('Rank = b1 + b2')"
      ],
      "metadata": {
        "id": "pxwScDDJBpBX"
      },
      "execution_count": 66,
      "outputs": []
    },
    {
      "cell_type": "code",
      "source": [
        "test = test.sort_values(['Rank'], ascending=True)"
      ],
      "metadata": {
        "id": "tLNegrNTD9W_"
      },
      "execution_count": null,
      "outputs": []
    },
    {
      "cell_type": "code",
      "source": [
        "test.reset_index(inplace=True, drop=True)"
      ],
      "metadata": {
        "id": "i4pXMxAjFPzG"
      },
      "execution_count": 71,
      "outputs": []
    },
    {
      "cell_type": "code",
      "source": [
        "indexNames = test[(test.index > 10)].index\n",
        "test.drop(indexNames , inplace=True)"
      ],
      "metadata": {
        "id": "XbFFWWCrQmKy"
      },
      "execution_count": null,
      "outputs": []
    },
    {
      "cell_type": "code",
      "source": [
        ""
      ],
      "metadata": {
        "id": "c8alwNJ5Rytb"
      },
      "execution_count": null,
      "outputs": []
    }
  ]
}