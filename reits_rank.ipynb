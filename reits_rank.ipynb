{
  "cells": [
    {
      "cell_type": "code",
      "execution_count": null,
      "metadata": {
        "id": "wHxHVf0OjVo9"
      },
      "outputs": [],
      "source": [
        "# Imports\n",
        "import pandas as pd\n",
        "import requests\n",
        "import numpy as np\n",
        "import matplotlib.pyplot as plt\n",
        "import yfinance as yf\n",
        "import seaborn as sns\n",
        "from bs4 import BeautifulSoup \n",
        "import mplcyberpunk\n",
        "#from tabulate import tabulate"
      ]
    },
    {
      "cell_type": "code",
      "execution_count": null,
      "metadata": {
        "id": "Lvx_0_LJjV8F"
      },
      "outputs": [],
      "source": [
        "#extract the data from the website\n",
        "url = requests.get(\"https://www.fundsexplorer.com.br/ranking\")"
      ]
    },
    {
      "cell_type": "code",
      "execution_count": null,
      "metadata": {
        "id": "FHdvtt3B5yBM"
      },
      "outputs": [],
      "source": [
        "fii_bs4 = BeautifulSoup(url.text, \"html.parser\")"
      ]
    },
    {
      "cell_type": "code",
      "execution_count": null,
      "metadata": {
        "id": "WRCF1Sy4jd8W"
      },
      "outputs": [],
      "source": [
        "#find the table with a tag\n",
        "fii_table = fii_bs4.findAll(attrs = {'id' : 'scroll-wrapper'})\n",
        "table = fii_table[0].findAll('table')"
      ]
    },
    {
      "cell_type": "code",
      "execution_count": null,
      "metadata": {
        "id": "no8LOXoU6i0K"
      },
      "outputs": [],
      "source": [
        "fii_df = pd.read_html(str(fii_table[0]))[0]"
      ]
    },
    {
      "cell_type": "code",
      "execution_count": null,
      "metadata": {
        "id": "ewFTWJZ761CO"
      },
      "outputs": [],
      "source": [
        "#initial dataframe\n",
        "fii_df"
      ]
    },
    {
      "cell_type": "code",
      "execution_count": null,
      "metadata": {
        "id": "JwXpRqBc72lf"
      },
      "outputs": [],
      "source": [
        "fii_df.columns.values"
      ]
    },
    {
      "cell_type": "code",
      "execution_count": null,
      "metadata": {
        "id": "bvUkJj3X8PV_"
      },
      "outputs": [],
      "source": [
        "#rename the columns\n",
        "fii_df.columns = ['ticker', 'Setor', 'price', 'liquidez',\n",
        "       'Dividendo', 'DividendYield', 'DY (3M)Acumulado',\n",
        "       'DY (6M)Acumulado', 'dy', 'DY (3M)Média',\n",
        "       'DY (6M)Média', 'Dividenmediio', 'DY Ano', 'Variação Preço',\n",
        "       'Rentab.Período', 'Rentab.Acumulada', 'PatrimônioLíq.', 'VPA',\n",
        "       'pvpa', 'DYPatrimonial', 'VariaçãoPatrimonial',\n",
        "       'Rentab. Patr.no Período', 'Rentab. Patr.Acumulada',\n",
        "       'VacânciaFísica', 'VacânciaFinanceira', 'QuantidadeAtivos']"
      ]
    },
    {
      "cell_type": "code",
      "execution_count": null,
      "metadata": {
        "id": "c74r0rO28yi5"
      },
      "outputs": [],
      "source": [
        "fii_df.columns.values"
      ]
    },
    {
      "cell_type": "code",
      "execution_count": null,
      "metadata": {
        "id": "S-g0Rcd37IgJ"
      },
      "outputs": [],
      "source": [
        "#save a backup od the data\n",
        "fii_back = fii_df.copy()"
      ]
    },
    {
      "cell_type": "code",
      "execution_count": null,
      "metadata": {
        "id": "DElgkzFQ7vZs"
      },
      "outputs": [],
      "source": [
        "#select the columns needed for the test\n",
        "test = fii_df[['ticker', 'price', 'dy', 'pvpa','liquidez']]"
      ]
    },
    {
      "cell_type": "code",
      "execution_count": null,
      "metadata": {
        "id": "A09R_iCW-OH3"
      },
      "outputs": [],
      "source": [
        "print(\"--> DATA:\")\n",
        "display(test.isnull().sum())"
      ]
    },
    {
      "cell_type": "code",
      "execution_count": null,
      "metadata": {
        "id": "SbSHaidcALqI"
      },
      "outputs": [],
      "source": [
        "#excludes the \"nan\" data\n",
        "test = test[test['price'].notna()]\n",
        "test = test[test['dy'].notna()]"
      ]
    },
    {
      "cell_type": "code",
      "execution_count": null,
      "metadata": {
        "id": "DKCl9Ce8AXbD"
      },
      "outputs": [],
      "source": [
        "print(\"--> DATA:\")\n",
        "display(test.isnull().sum())"
      ]
    },
    {
      "cell_type": "code",
      "execution_count": null,
      "metadata": {
        "id": "pZahjHtx4d9O"
      },
      "outputs": [],
      "source": [
        "#classified the dataframe by dividend yeld from largest to smallest \n",
        "test = test.sort_values(['dy'], ascending=False)"
      ]
    },
    {
      "cell_type": "code",
      "execution_count": null,
      "metadata": {
        "id": "a9k8ZLL64vKm"
      },
      "outputs": [],
      "source": [
        "test"
      ]
    },
    {
      "cell_type": "code",
      "execution_count": null,
      "metadata": {
        "id": "uK0OSKi3Gyk5"
      },
      "outputs": [],
      "source": [
        "# excludes the \"R$\" unit from the data\n",
        "unit = 'R$'\n",
        "test['price'] = [sub.replace(unit, \"\").strip() for sub in test['price']]"
      ]
    },
    {
      "cell_type": "code",
      "execution_count": null,
      "metadata": {
        "id": "0MBdv8eSHiME"
      },
      "outputs": [],
      "source": [
        "test"
      ]
    },
    {
      "cell_type": "code",
      "execution_count": null,
      "metadata": {
        "id": "0eqGWNerIxpE"
      },
      "outputs": [],
      "source": [
        "#view the types of the columns\n",
        "test.dtypes"
      ]
    },
    {
      "cell_type": "code",
      "execution_count": null,
      "metadata": {
        "id": "1lGSV05dJsuv"
      },
      "outputs": [],
      "source": [
        "#change the separator digit of \",\" for \".\"\n",
        "test['price'] = test['price'].str.replace(',', '.')\n",
        "test['price'] = pd.to_numeric(test['price'], errors='coerce')\n",
        "test"
      ]
    },
    {
      "cell_type": "code",
      "execution_count": null,
      "metadata": {
        "id": "Fh4BeqPEMTPD"
      },
      "outputs": [],
      "source": [
        "#excludes the \"nan\" data\n",
        "test = test[test['price'].notna()]"
      ]
    },
    {
      "cell_type": "code",
      "execution_count": null,
      "metadata": {
        "id": "Pyv5Ue9oBMiZ"
      },
      "outputs": [],
      "source": [
        "#calculate the daily liquidity\n",
        "test['lid2'] = test['price'] * test['liquidez']\n",
        "test"
      ]
    },
    {
      "cell_type": "code",
      "execution_count": null,
      "metadata": {
        "id": "ZqkCZ8x3OTty"
      },
      "outputs": [],
      "source": [
        "##classified the dataframe by daily liquidity from largest to smallest \n",
        "test = test.sort_values(['lid2'], ascending=False)"
      ]
    },
    {
      "cell_type": "code",
      "execution_count": null,
      "metadata": {
        "id": "6Qz4pXSS-85Q"
      },
      "outputs": [],
      "source": [
        "#reset the index\n",
        "test.reset_index(inplace=True, drop=True)"
      ]
    },
    {
      "cell_type": "code",
      "execution_count": null,
      "metadata": {
        "id": "Ad31Dpeq_qJ_"
      },
      "outputs": [],
      "source": [
        "#excludes the reits (fii) with daily liquidity less than R$ 200,000.00\n",
        "indexNames = test[ (test['lid2'] <= 200000)].index\n",
        "test.drop(indexNames , inplace=True)\n",
        "test"
      ]
    },
    {
      "cell_type": "code",
      "execution_count": null,
      "metadata": {
        "id": "9XJ_UmFNPV9i"
      },
      "outputs": [],
      "source": [
        "#save the number of lines\n",
        "ts = test.shape\n",
        "ts = ts[0]"
      ]
    },
    {
      "cell_type": "code",
      "execution_count": null,
      "metadata": {
        "id": "WLSyt920QDQa"
      },
      "outputs": [],
      "source": [
        "#classified the dataframe by dividend yeld from largest to smallest\n",
        "test = test.sort_values(['dy'], ascending=False)\n",
        "test.reset_index(inplace=True, drop=True)"
      ]
    },
    {
      "cell_type": "code",
      "execution_count": null,
      "metadata": {
        "id": "jHtKHuO15TbW"
      },
      "outputs": [],
      "source": [
        "b1 = [*range(0, ts, 1)]"
      ]
    },
    {
      "cell_type": "code",
      "execution_count": null,
      "metadata": {
        "id": "Zi4jz2E0Dljk"
      },
      "outputs": [],
      "source": [
        "#creates a ranking from highest to lowest dividend\n",
        "test['b1'] = pd.Series(b1)"
      ]
    },
    {
      "cell_type": "code",
      "execution_count": null,
      "metadata": {
        "id": "HHBQ4t0FFgr8"
      },
      "outputs": [],
      "source": [
        "test"
      ]
    },
    {
      "cell_type": "code",
      "execution_count": null,
      "metadata": {
        "id": "PNxeUW0OAD5v"
      },
      "outputs": [],
      "source": [
        "#classified the dataframe by pvpa from largest to smallest\n",
        "test = test.sort_values(['pvpa'], ascending=True)"
      ]
    },
    {
      "cell_type": "code",
      "execution_count": null,
      "metadata": {
        "id": "XiaGjtjeAt2n"
      },
      "outputs": [],
      "source": [
        "test.reset_index(inplace=True, drop=True)"
      ]
    },
    {
      "cell_type": "code",
      "execution_count": null,
      "metadata": {
        "id": "ZHRUmQz4AYhw"
      },
      "outputs": [],
      "source": [
        "#creates a ranking from highest to lowest pvpa\n",
        "b2 = [*range(0, ts, 1)]\n",
        "test['b2'] = pd.Series(b2)"
      ]
    },
    {
      "cell_type": "code",
      "execution_count": null,
      "metadata": {
        "id": "O_rlaOs5A0Z_"
      },
      "outputs": [],
      "source": [
        "test"
      ]
    },
    {
      "cell_type": "code",
      "execution_count": null,
      "metadata": {
        "id": "pxwScDDJBpBX"
      },
      "outputs": [],
      "source": [
        "#sum the dividend yeld rank with the pvpa rank\n",
        "test = test.eval('Rank = b1 + b2')"
      ]
    },
    {
      "cell_type": "code",
      "execution_count": null,
      "metadata": {
        "id": "tLNegrNTD9W_"
      },
      "outputs": [],
      "source": [
        "#classified the dataframe by final rank from smallest to largest\n",
        "test = test.sort_values(['Rank'], ascending=True)"
      ]
    },
    {
      "cell_type": "code",
      "execution_count": null,
      "metadata": {
        "id": "i4pXMxAjFPzG"
      },
      "outputs": [],
      "source": [
        "test.reset_index(inplace=True, drop=True)"
      ]
    },
    {
      "cell_type": "code",
      "execution_count": null,
      "metadata": {
        "id": "XbFFWWCrQmKy"
      },
      "outputs": [],
      "source": [
        "#select the top 10 reits (fii) to invest\n",
        "indexNames = test[(test.index > 11)].index\n",
        "test.drop(indexNames , inplace=True)\n",
        "test"
      ]
    },
    {
      "cell_type": "code",
      "execution_count": null,
      "metadata": {},
      "outputs": [],
      "source": [
        "indexNames = test[(test['ticker']=='PATL11')].index\n",
        "test.drop(indexNames , inplace=True)\n",
        "indexNames = test[(test['ticker']=='HSLG11')].index\n",
        "test.drop(indexNames , inplace=True)\n",
        "test.reset_index(inplace=True, drop=True)\n",
        "test"
      ]
    },
    {
      "cell_type": "code",
      "execution_count": null,
      "metadata": {
        "id": "c8alwNJ5Rytb"
      },
      "outputs": [],
      "source": [
        "y = [10,10,10,10,10,10,10,10,10,10]\n",
        "ml = test['ticker']\n",
        "me = [0.2,0,0,0,0,0,0,0,0,0]\n",
        "colors = plt.cm.rainbow(np.linspace(0, 1, len(y)))\n",
        "plt.style.use(\"cyberpunk\")\n",
        "plt.pie(y, labels = ml, shadow=True, autopct='%1.1f%%', explode=me, colors=colors)\n",
        "plt.title('REITS RANK',fontname=\"Arial\",fontweight=\"bold\", size=20)\n",
        "#plt.legend()"
      ]
    },
    {
      "cell_type": "code",
      "execution_count": null,
      "metadata": {},
      "outputs": [],
      "source": [
        "tts = test['ticker']+\".SA\"\n",
        "print(tts)"
      ]
    },
    {
      "cell_type": "code",
      "execution_count": null,
      "metadata": {},
      "outputs": [],
      "source": [
        "x = np.random.rand(10,1)\n",
        "#x = x.T\n",
        "x = pd.DataFrame(x, columns=[f'name{0}'])\n",
        "\n",
        "\n",
        "for i in range (0,10):\n",
        "    y = np.random.rand(10,1)\n",
        "    #y = y.T\n",
        "    y = pd.DataFrame(y, columns=[f'name{i+1}'])\n",
        "    x = pd.concat([x,y], axis=1, join='inner', ignore_index=False, copy=False)\n",
        "\n",
        "x\n"
      ]
    },
    {
      "cell_type": "code",
      "execution_count": null,
      "metadata": {},
      "outputs": [],
      "source": [
        "ifix = \"XFIX11.SA\"\n",
        "data = yf.download(ifix, period='1y')\n",
        "dd = pd.DataFrame(data)\n",
        "dd.drop(['Open','High','Low','Close','Volume'], axis=1, inplace=True)\n",
        "dd.rename(columns={'Adj Close': ifix}, inplace=True)\n",
        "\n",
        "for x in range (10):\n",
        "    data = yf.download(tts[x], period='1y')\n",
        "    ddsad = pd.DataFrame(data)\n",
        "    ddsad.drop(['Open','High','Low','Close','Volume'], axis=1, inplace=True)\n",
        "    ddsad.rename(columns={'Adj Close': tts[x]}, inplace=True)\n",
        "    dd = pd.concat([dd, ddsad], axis=1, join='outer', ignore_index=False, copy=False)\n",
        "dd\n",
        "#dd"
      ]
    },
    {
      "cell_type": "code",
      "execution_count": null,
      "metadata": {},
      "outputs": [],
      "source": [
        "dd = dd.resample(\"M\").last()\n",
        "dd = dd.pct_change()\n",
        "dd = dd.dropna(how='all')\n",
        "dd.drop(['BCFF11.SA'], axis=1, inplace=True)\n",
        "dd = dd*100\n",
        "dd"
      ]
    },
    {
      "cell_type": "code",
      "execution_count": null,
      "metadata": {},
      "outputs": [],
      "source": [
        "#sns.heatmap(dd,annot=True)\n",
        "#dd.plot_monthly_heatmap()\n",
        "\n",
        "plt.style.use(\"cyberpunk\")\n",
        "plt.plot(dd.index,dd)\n",
        "plt.grid(which='minor', alpha=0.2)\n",
        "plt.grid(which='major', alpha=0.5)\n",
        "plt.legend(dd.columns,loc='best', shadow=True, frameon=True)\n",
        "#ax.set_label(y)\n",
        "#ax.set_xticks(ind,labels=x)\n",
        "#ax.bar_label(f, fmt='%.1f',padding=4, fontweight=\"bold\")\n",
        "\n",
        "plt.xlabel('MONTH', fontweight=\"bold\")\n",
        "plt.ylabel('VARIAÇÃO', fontweight=\"bold\", visible=False)\n",
        "plt.title('ANNUAL RETURN (%)', fontweight=\"bold\")\n",
        "plt.rcParams['figure.figsize'] = [10, 10]\n"
      ]
    },
    {
      "cell_type": "code",
      "execution_count": null,
      "metadata": {},
      "outputs": [],
      "source": [
        "sns.heatmap(dd, annot=True)"
      ]
    },
    {
      "cell_type": "code",
      "execution_count": null,
      "metadata": {},
      "outputs": [],
      "source": [
        "sumdd = dd.sum()\n",
        "sumdd = pd.DataFrame(sumdd)\n",
        "x = sumdd.index\n",
        "y = sumdd[0]\n",
        "colors = plt.cm.rainbow(np.linspace(0, 1, len(y)))\n",
        "\n",
        "fig,ax = plt.subplots()\n",
        "f = ax.bar(x,y,color=colors)\n",
        "plt.xticks(x,rotation=90)\n",
        "ax.set_label(y)\n",
        "ax.bar_label(f,fmt='%.1f',padding=4, fontweight=\"bold\")\n",
        "plt.xlabel('REITS', fontweight=\"bold\")\n",
        "plt.ylabel('VARIATION', fontweight=\"bold\", visible=False)\n",
        "plt.title('ACUMULATED RETURN (%)', fontweight=\"bold\")"
      ]
    }
  ],
  "metadata": {
    "colab": {
      "collapsed_sections": [],
      "name": "reits_rank.ipynb",
      "provenance": []
    },
    "kernelspec": {
      "display_name": "Python 3",
      "language": "python",
      "name": "python3"
    },
    "language_info": {
      "codemirror_mode": {
        "name": "ipython",
        "version": 3
      },
      "file_extension": ".py",
      "mimetype": "text/x-python",
      "name": "python",
      "nbconvert_exporter": "python",
      "pygments_lexer": "ipython3",
      "version": "3.11.1"
    },
    "vscode": {
      "interpreter": {
        "hash": "5238573367df39f7286bb46f9ff5f08f63a01a80960060ce41e3c79b190280fa"
      }
    }
  },
  "nbformat": 4,
  "nbformat_minor": 0
}
