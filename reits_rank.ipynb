{
  "nbformat": 4,
  "nbformat_minor": 0,
  "metadata": {
    "colab": {
      "name": "Wscerping.ipynb",
      "provenance": [],
      "collapsed_sections": []
    },
    "kernelspec": {
      "name": "python3",
      "display_name": "Python 3"
    },
    "language_info": {
      "name": "python"
    }
  },
  "cells": [
    {
      "cell_type": "code",
      "source": [
        "# Imports\n",
        "import pandas as pd\n",
        "import requests\n",
        "import numpy as np\n",
        "from bs4 import BeautifulSoup \n",
        "#from tabulate import tabulate"
      ],
      "metadata": {
        "id": "wHxHVf0OjVo9"
      },
      "execution_count": 1,
      "outputs": []
    },
    {
      "cell_type": "code",
      "source": [
        "url = requests.get(\"https://www.fundsexplorer.com.br/ranking\")"
      ],
      "metadata": {
        "id": "Lvx_0_LJjV8F"
      },
      "execution_count": 2,
      "outputs": []
    },
    {
      "cell_type": "code",
      "source": [
        "fii_bs4 = BeautifulSoup(url.text, \"html.parser\")"
      ],
      "metadata": {
        "id": "FHdvtt3B5yBM"
      },
      "execution_count": 3,
      "outputs": []
    },
    {
      "cell_type": "code",
      "source": [
        "fii_table = fii_bs4.findAll(attrs = {'id' : 'scroll-wrapper'})\n",
        "table = fii_table[0].findAll('table')"
      ],
      "metadata": {
        "id": "WRCF1Sy4jd8W"
      },
      "execution_count": 4,
      "outputs": []
    },
    {
      "cell_type": "code",
      "source": [
        "fii_df = pd.read_html(str(fii_table[0]))[0]"
      ],
      "metadata": {
        "id": "no8LOXoU6i0K"
      },
      "execution_count": 5,
      "outputs": []
    },
    {
      "cell_type": "code",
      "source": [
        "fii_df"
      ],
      "metadata": {
        "id": "ewFTWJZ761CO"
      },
      "execution_count": null,
      "outputs": []
    },
    {
      "cell_type": "code",
      "source": [
        "fii_df.columns.values"
      ],
      "metadata": {
        "id": "JwXpRqBc72lf"
      },
      "execution_count": null,
      "outputs": []
    },
    {
      "cell_type": "code",
      "source": [
        "fii_df.columns = ['ticker', 'Setor', 'price', 'liquidez',\n",
        "       'Dividendo', 'DividendYield', 'DY (3M)Acumulado',\n",
        "       'DY (6M)Acumulado', 'dy', 'DY (3M)Média',\n",
        "       'DY (6M)Média', 'Dividenmediio', 'DY Ano', 'Variação Preço',\n",
        "       'Rentab.Período', 'Rentab.Acumulada', 'PatrimônioLíq.', 'VPA',\n",
        "       'pvpa', 'DYPatrimonial', 'VariaçãoPatrimonial',\n",
        "       'Rentab. Patr.no Período', 'Rentab. Patr.Acumulada',\n",
        "       'VacânciaFísica', 'VacânciaFinanceira', 'QuantidadeAtivos']"
      ],
      "metadata": {
        "id": "bvUkJj3X8PV_"
      },
      "execution_count": 8,
      "outputs": []
    },
    {
      "cell_type": "code",
      "source": [
        "fii_df.columns.values"
      ],
      "metadata": {
        "id": "c74r0rO28yi5"
      },
      "execution_count": null,
      "outputs": []
    },
    {
      "cell_type": "code",
      "source": [
        "fii_back = fii_df.copy()"
      ],
      "metadata": {
        "id": "S-g0Rcd37IgJ"
      },
      "execution_count": 10,
      "outputs": []
    },
    {
      "cell_type": "code",
      "source": [
        "test = fii_df[['ticker', 'price', 'dy', 'pvpa','liquidez']]"
      ],
      "metadata": {
        "id": "DElgkzFQ7vZs"
      },
      "execution_count": 11,
      "outputs": []
    },
    {
      "cell_type": "code",
      "source": [
        "test"
      ],
      "metadata": {
        "id": "5pwV2Xcz9izN"
      },
      "execution_count": null,
      "outputs": []
    },
    {
      "cell_type": "code",
      "source": [
        "print(\"--> FII:\")\n",
        "display(test.isnull().sum())"
      ],
      "metadata": {
        "id": "A09R_iCW-OH3"
      },
      "execution_count": null,
      "outputs": []
    },
    {
      "cell_type": "code",
      "source": [
        "test = test[test['price'].notna()]\n",
        "test = test[test['dy'].notna()]"
      ],
      "metadata": {
        "id": "SbSHaidcALqI"
      },
      "execution_count": 14,
      "outputs": []
    },
    {
      "cell_type": "code",
      "source": [
        "print(\"--> FII:\")\n",
        "display(test.isnull().sum())"
      ],
      "metadata": {
        "id": "DKCl9Ce8AXbD"
      },
      "execution_count": null,
      "outputs": []
    },
    {
      "cell_type": "code",
      "source": [
        "test = test.sort_values(['dy'], ascending=False)"
      ],
      "metadata": {
        "id": "pZahjHtx4d9O"
      },
      "execution_count": 16,
      "outputs": []
    },
    {
      "cell_type": "code",
      "source": [
        "test"
      ],
      "metadata": {
        "id": "a9k8ZLL64vKm"
      },
      "execution_count": null,
      "outputs": []
    },
    {
      "cell_type": "code",
      "source": [
        "test.reset_index(inplace=True, drop=True)"
      ],
      "metadata": {
        "id": "6Qz4pXSS-85Q"
      },
      "execution_count": 18,
      "outputs": []
    },
    {
      "cell_type": "code",
      "source": [
        "test"
      ],
      "metadata": {
        "id": "Ad31Dpeq_qJ_"
      },
      "execution_count": null,
      "outputs": []
    },
    {
      "cell_type": "code",
      "source": [
        "b1 = [*range(0, 268, 1)]"
      ],
      "metadata": {
        "id": "jHtKHuO15TbW"
      },
      "execution_count": 20,
      "outputs": []
    },
    {
      "cell_type": "code",
      "source": [
        "test['b1'] = pd.Series(b1)"
      ],
      "metadata": {
        "id": "Zi4jz2E0Dljk"
      },
      "execution_count": 21,
      "outputs": []
    },
    {
      "cell_type": "code",
      "source": [
        "test"
      ],
      "metadata": {
        "id": "HHBQ4t0FFgr8"
      },
      "execution_count": null,
      "outputs": []
    },
    {
      "cell_type": "code",
      "source": [
        "test = test.sort_values(['pvpa'], ascending=True)"
      ],
      "metadata": {
        "id": "PNxeUW0OAD5v"
      },
      "execution_count": 23,
      "outputs": []
    },
    {
      "cell_type": "code",
      "source": [
        "test.reset_index(inplace=True, drop=True)"
      ],
      "metadata": {
        "id": "XiaGjtjeAt2n"
      },
      "execution_count": 24,
      "outputs": []
    },
    {
      "cell_type": "code",
      "source": [
        "b2 = [*range(0, 268, 1)]\n",
        "test['b2'] = pd.Series(b2)"
      ],
      "metadata": {
        "id": "ZHRUmQz4AYhw"
      },
      "execution_count": 32,
      "outputs": []
    },
    {
      "cell_type": "code",
      "source": [
        "test"
      ],
      "metadata": {
        "id": "O_rlaOs5A0Z_"
      },
      "execution_count": null,
      "outputs": []
    },
    {
      "cell_type": "code",
      "source": [
        "test = test.eval('Rank = b1 + b2')"
      ],
      "metadata": {
        "id": "pxwScDDJBpBX"
      },
      "execution_count": 34,
      "outputs": []
    },
    {
      "cell_type": "code",
      "source": [
        "test = test.sort_values(['Rank'], ascending=True)\n",
        "test"
      ],
      "metadata": {
        "id": "tLNegrNTD9W_"
      },
      "execution_count": null,
      "outputs": []
    },
    {
      "cell_type": "code",
      "source": [
        "test.reset_index(inplace=True, drop=True)"
      ],
      "metadata": {
        "id": "i4pXMxAjFPzG"
      },
      "execution_count": 39,
      "outputs": []
    },
    {
      "cell_type": "code",
      "source": [
        "delid = [*range(10, 268, 1)]"
      ],
      "metadata": {
        "id": "S9poIE84HpXN"
      },
      "execution_count": 45,
      "outputs": []
    },
    {
      "cell_type": "code",
      "source": [
        "testdrop=test.drop(test.index[[delid]])"
      ],
      "metadata": {
        "id": "8ar9xMqnGaP2"
      },
      "execution_count": null,
      "outputs": []
    },
    {
      "cell_type": "code",
      "source": [
        "test"
      ],
      "metadata": {
        "id": "OpxaqtkhHzcg"
      },
      "execution_count": null,
      "outputs": []
    }
  ]
}