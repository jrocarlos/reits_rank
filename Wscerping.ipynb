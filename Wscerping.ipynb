{
  "nbformat": 4,
  "nbformat_minor": 0,
  "metadata": {
    "colab": {
      "name": "Wscerping.ipynb",
      "provenance": [],
      "toc_visible": true,
      "collapsed_sections": []
    },
    "kernelspec": {
      "name": "python3",
      "display_name": "Python 3"
    },
    "language_info": {
      "name": "python"
    }
  },
  "cells": [
    {
      "cell_type": "code",
      "source": [
        "# Imports\n",
        "import pandas as pd\n",
        "import requests\n",
        "from bs4 import BeautifulSoup \n",
        "from tabulate import tabulate"
      ],
      "metadata": {
        "id": "wHxHVf0OjVo9"
      },
      "execution_count": 1,
      "outputs": []
    },
    {
      "cell_type": "code",
      "source": [
        "url = requests.get(\"https://www.fundsexplorer.com.br/ranking\")"
      ],
      "metadata": {
        "id": "Lvx_0_LJjV8F"
      },
      "execution_count": 2,
      "outputs": []
    },
    {
      "cell_type": "code",
      "source": [
        "fii_bs4 = BeautifulSoup(url.text, \"html.parser\")"
      ],
      "metadata": {
        "id": "FHdvtt3B5yBM"
      },
      "execution_count": 3,
      "outputs": []
    },
    {
      "cell_type": "code",
      "source": [
        "fii_table = fii_bs4.findAll(attrs = {'id' : 'scroll-wrapper'})\n",
        "table = fii_table[0].findAll('table')"
      ],
      "metadata": {
        "id": "WRCF1Sy4jd8W"
      },
      "execution_count": 4,
      "outputs": []
    },
    {
      "cell_type": "code",
      "source": [
        "fii_df = pd.read_html(str(fii_table[0]))[0]"
      ],
      "metadata": {
        "id": "no8LOXoU6i0K"
      },
      "execution_count": 5,
      "outputs": []
    },
    {
      "cell_type": "code",
      "source": [
        "fii_df"
      ],
      "metadata": {
        "id": "ewFTWJZ761CO"
      },
      "execution_count": null,
      "outputs": []
    },
    {
      "cell_type": "code",
      "source": [
        "fii_df.columns.values"
      ],
      "metadata": {
        "colab": {
          "base_uri": "https://localhost:8080/"
        },
        "id": "JwXpRqBc72lf",
        "outputId": "40dbf082-7a57-44a3-c9d5-ce1229d9606f"
      },
      "execution_count": 10,
      "outputs": [
        {
          "output_type": "execute_result",
          "data": {
            "text/plain": [
              "array(['Códigodo fundo', 'Setor', 'Preço Atual', 'Liquidez Diária',\n",
              "       'Dividendo', 'DividendYield', 'DY (3M)Acumulado',\n",
              "       'DY (6M)Acumulado', 'DY (12M)Acumulado', 'DY (3M)Média',\n",
              "       'DY (6M)Média', 'DY (12M)Média', 'DY Ano', 'Variação Preço',\n",
              "       'Rentab.Período', 'Rentab.Acumulada', 'PatrimônioLíq.', 'VPA',\n",
              "       'P/VPA', 'DYPatrimonial', 'VariaçãoPatrimonial',\n",
              "       'Rentab. Patr.no Período', 'Rentab. Patr.Acumulada',\n",
              "       'VacânciaFísica', 'VacânciaFinanceira', 'QuantidadeAtivos'],\n",
              "      dtype=object)"
            ]
          },
          "metadata": {},
          "execution_count": 10
        }
      ]
    },
    {
      "cell_type": "code",
      "source": [
        "fii_df.columns = ['ticker', 'Setor', 'price', 'liquidez',\n",
        "       'Dividendo', 'dy', 'DY (3M)Acumulado',\n",
        "       'DY (6M)Acumulado', 'DY (12M)Acumulado', 'DY (3M)Média',\n",
        "       'DY (6M)Média', 'DY (12M)Média', 'DY Ano', 'Variação Preço',\n",
        "       'Rentab.Período', 'Rentab.Acumulada', 'PatrimônioLíq.', 'VPA',\n",
        "       'pvpa', 'DYPatrimonial', 'VariaçãoPatrimonial',\n",
        "       'Rentab. Patr.no Período', 'Rentab. Patr.Acumulada',\n",
        "       'VacânciaFísica', 'VacânciaFinanceira', 'QuantidadeAtivos']"
      ],
      "metadata": {
        "id": "bvUkJj3X8PV_"
      },
      "execution_count": 11,
      "outputs": []
    },
    {
      "cell_type": "code",
      "source": [
        "fii_df.columns.values"
      ],
      "metadata": {
        "id": "c74r0rO28yi5"
      },
      "execution_count": null,
      "outputs": []
    },
    {
      "cell_type": "code",
      "source": [
        "fii_back = fii_df.copy()"
      ],
      "metadata": {
        "id": "S-g0Rcd37IgJ"
      },
      "execution_count": 13,
      "outputs": []
    },
    {
      "cell_type": "code",
      "source": [
        "test = fii_df[['ticker', 'price', 'dy', 'pvpa']]"
      ],
      "metadata": {
        "id": "DElgkzFQ7vZs"
      },
      "execution_count": 17,
      "outputs": []
    },
    {
      "cell_type": "code",
      "source": [
        "test"
      ],
      "metadata": {
        "id": "5pwV2Xcz9izN"
      },
      "execution_count": null,
      "outputs": []
    }
  ]
}